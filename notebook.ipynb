{
 "cells": [
  {
   "cell_type": "markdown",
   "metadata": {},
   "source": [
    "# Easy Fine-Tuning GPT-3.5 Turbo for Robust and Reliable Clinical Language Modeling. (Medical LLM) \n",
    "Nitya Singh"
   ]
  },
  {
   "cell_type": "markdown",
   "metadata": {},
   "source": [
    "### Transforming the dataset"
   ]
  },
  {
   "cell_type": "code",
   "execution_count": null,
   "metadata": {},
   "outputs": [],
   "source": [
    "import csv\n",
    "import json\n",
    "\n",
    "def csv_to_jsonl(csv_file_path, jsonl_file_path):\n",
    "    with open(csv_file_path, 'r') as csv_file:\n",
    "        reader = csv.DictReader(csv_file)\n",
    "        data = list(reader)\n",
    "\n",
    "    with open(jsonl_file_path, 'w') as jsonl_file:\n",
    "        for row in data:\n",
    "            message = {\n",
    "                \"messages\": [\n",
    "                    {\"role\": \"user\", \"content\": row[\"user\"]},\n",
    "                    {\"role\": \"assistant\", \"content\": row[\"assistant\"]}\n",
    "                ]\n",
    "            }\n",
    "            jsonl_file.write(json.dumps(message) + '\\n')\n",
    "\n",
    "csv_to_jsonl('data.csv', 'output.jsonl')"
   ]
  },
  {
   "cell_type": "markdown",
   "metadata": {},
   "source": [
    "### Uploading the dataset"
   ]
  },
  {
   "cell_type": "code",
   "execution_count": null,
   "metadata": {},
   "outputs": [],
   "source": [
    "import requests\n",
    "\n",
    "# Replace these with your actual values\n",
    "api_key = 'YOUR_API_KEY'\n",
    "file_path = r'path_to_the_json_file'\n",
    "\n",
    "headers = {\n",
    "    'Authorization': f'Bearer {api_key}',\n",
    "}\n",
    "\n",
    "data = {\n",
    "    'purpose': 'fine-tune',\n",
    "}\n",
    "\n",
    "files = {\n",
    "    'file': open(file_path, 'rb'),\n",
    "}\n",
    "\n",
    "response = requests.post('https://api.openai.com/v1/files', headers=headers, data=data, files=files)\n",
    "\n",
    "# This will print the status code\n",
    "print(response.status_code)\n",
    "print(response.json())"
   ]
  },
  {
   "cell_type": "markdown",
   "metadata": {},
   "source": [
    "### Status of the code \n",
    "It takes few minutes for the file to be ready for the training. Once uploaded we create a fine-tuning job. from the output 'id' is important. extract the id in a format like \"file-xxxx…\" and paste into the next code' training_field_id attribute."
   ]
  },
  {
   "cell_type": "code",
   "execution_count": null,
   "metadata": {},
   "outputs": [],
   "source": [
    "import requests\n",
    "import json\n",
    "\n",
    "# Replace these with your actual values\n",
    "api_key = 'YOUR_API_KEY'\n",
    "training_file_id = 'file-id'\n",
    "\n",
    "headers = {\n",
    "    'Content-Type': 'application/json',\n",
    "    'Authorization': f'Bearer {api_key}',\n",
    "}\n",
    "\n",
    "data = {\n",
    "    'training_file': training_file_id,\n",
    "    'model': 'gpt-3.5-turbo-0613',\n",
    "}\n",
    "\n",
    "response = requests.post('https://api.openai.com/v1/fine_tuning/jobs', headers=headers, data=json.dumps(data))\n",
    "\n",
    "# This will print the status code\n",
    "print(response.json())"
   ]
  },
  {
   "cell_type": "markdown",
   "metadata": {},
   "source": [
    "Wait for few minutes for the training to get completed. From the previous code output use the 'id' key to get the status of the fine tuning job below."
   ]
  },
  {
   "cell_type": "code",
   "execution_count": null,
   "metadata": {},
   "outputs": [],
   "source": [
    "import requests\n",
    "headers = {\n",
    "    'Authorization': 'Bearer YOUR_API_KEY',\n",
    "}\n",
    "\n",
    "responsem = requests.get('https://api.openai.com/v1/fine_tuning/jobs/'paste your id from above here', headers=headers)\n",
    "\n",
    "print(responsem.json())"
   ]
  },
  {
   "cell_type": "markdown",
   "metadata": {},
   "source": [
    "Once completed you will get a 'fined_tuned_model' name. It has the format of ft:gpt-3.5-turbo:my-org:custom_suffix:id .This would be the name of your custom model and be used for calling through the API.\n",
    "### Testing :\n",
    "Change the model variable."
   ]
  },
  {
   "cell_type": "code",
   "execution_count": null,
   "metadata": {},
   "outputs": [],
   "source": [
    "import openai\n",
    "\n",
    "openai.api_key = 'YOU_API_KEY'\n",
    "\n",
    "response2 = openai.ChatCompletion.create(\n",
    "  model=\"ft:gpt-3.5-turbo:my-org:custom_suffix:id\",\n",
    "  messages=[\n",
    "        {\"role\": \"system\", \"content\": \"You are a health assistant.\"},\n",
    "        {\"role\": \"user\", \"content\": \"What causes Gastritis ?\"},\n",
    "    ]\n",
    ")\n",
    "\n",
    "print(response2['choices'][0])"
   ]
  }
 ],
 "metadata": {
  "language_info": {
   "name": "python"
  },
  "orig_nbformat": 4
 },
 "nbformat": 4,
 "nbformat_minor": 2
}
